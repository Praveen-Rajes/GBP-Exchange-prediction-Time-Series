{
 "cells": [
  {
   "cell_type": "code",
   "execution_count": 163,
   "metadata": {},
   "outputs": [],
   "source": [
    "import numpy as np\n",
    "import pandas as pd \n",
    "\n",
    "import matplotlib.pyplot as plt\n",
    "%matplotlib inline"
   ]
  },
  {
   "cell_type": "markdown",
   "metadata": {},
   "source": [
    "# **Load the Data**"
   ]
  },
  {
   "cell_type": "code",
   "execution_count": 164,
   "metadata": {},
   "outputs": [],
   "source": [
    "df = pd.read_csv('USD_LKR Historical Data.csv')"
   ]
  },
  {
   "cell_type": "code",
   "execution_count": 165,
   "metadata": {},
   "outputs": [
    {
     "data": {
      "text/html": [
       "<div>\n",
       "<style scoped>\n",
       "    .dataframe tbody tr th:only-of-type {\n",
       "        vertical-align: middle;\n",
       "    }\n",
       "\n",
       "    .dataframe tbody tr th {\n",
       "        vertical-align: top;\n",
       "    }\n",
       "\n",
       "    .dataframe thead th {\n",
       "        text-align: right;\n",
       "    }\n",
       "</style>\n",
       "<table border=\"1\" class=\"dataframe\">\n",
       "  <thead>\n",
       "    <tr style=\"text-align: right;\">\n",
       "      <th></th>\n",
       "      <th>Date</th>\n",
       "      <th>Price</th>\n",
       "    </tr>\n",
       "  </thead>\n",
       "  <tbody>\n",
       "    <tr>\n",
       "      <th>0</th>\n",
       "      <td>5/25/2023</td>\n",
       "      <td>302.0</td>\n",
       "    </tr>\n",
       "    <tr>\n",
       "      <th>1</th>\n",
       "      <td>5/26/2023</td>\n",
       "      <td>297.0</td>\n",
       "    </tr>\n",
       "    <tr>\n",
       "      <th>2</th>\n",
       "      <td>5/29/2023</td>\n",
       "      <td>296.0</td>\n",
       "    </tr>\n",
       "    <tr>\n",
       "      <th>3</th>\n",
       "      <td>5/30/2023</td>\n",
       "      <td>294.0</td>\n",
       "    </tr>\n",
       "    <tr>\n",
       "      <th>4</th>\n",
       "      <td>5/31/2023</td>\n",
       "      <td>290.0</td>\n",
       "    </tr>\n",
       "  </tbody>\n",
       "</table>\n",
       "</div>"
      ],
      "text/plain": [
       "        Date  Price\n",
       "0  5/25/2023  302.0\n",
       "1  5/26/2023  297.0\n",
       "2  5/29/2023  296.0\n",
       "3  5/30/2023  294.0\n",
       "4  5/31/2023  290.0"
      ]
     },
     "execution_count": 165,
     "metadata": {},
     "output_type": "execute_result"
    }
   ],
   "source": [
    "df.head()"
   ]
  },
  {
   "cell_type": "code",
   "execution_count": 166,
   "metadata": {},
   "outputs": [
    {
     "data": {
      "text/plain": [
       "<AxesSubplot:>"
      ]
     },
     "execution_count": 166,
     "metadata": {},
     "output_type": "execute_result"
    },
    {
     "data": {
      "image/png": "[encoded data removed]",
      "text/plain": [
       "<Figure size 432x288 with 1 Axes>"
      ]
     },
     "metadata": {
      "needs_background": "light"
     },
     "output_type": "display_data"
    }
   ],
   "source": [
    "# ploting the dataframe\n",
    "df.plot()"
   ]
  },
  {
   "cell_type": "markdown",
   "metadata": {},
   "source": [
    "# **Stationary Test using adfuller**"
   ]
  },
  {
   "cell_type": "code",
   "execution_count": 167,
   "metadata": {},
   "outputs": [],
   "source": [
    "# importing adfuller\n",
    "from statsmodels.tsa.stattools import adfuller\n",
    "test_result = adfuller(df['Price'])"
   ]
  },
  {
   "cell_type": "code",
   "execution_count": 168,
   "metadata": {},
   "outputs": [],
   "source": [
    "# creating function to check the stationarity\n",
    "def adfuller_test(price):\n",
    "    result = adfuller(price)\n",
    "    labels = ['ADF Test statistic','p-value','#Lags Used','Number of observations used']\n",
    "    for value,label in zip(result,labels):\n",
    "        print(label+' : '+str(value))\n",
    "    if result[1] < 0.05:\n",
    "        print(\"Not Stationary\")\n",
    "    else:\n",
    "        print(\"It's stationary\")"
   ]
  },
  {
   "cell_type": "markdown",
   "metadata": {},
   "source": [
    "**test outcome**"
   ]
  },
  {
   "cell_type": "code",
   "execution_count": 169,
   "metadata": {},
   "outputs": [
    {
     "name": "stdout",
     "output_type": "stream",
     "text": [
      "ADF Test statistic : -2.177715526572247\n",
      "p-value : 0.214432610687199\n",
      "#Lags Used : 2\n",
      "Number of observations used : 216\n",
      "It's stationary\n"
     ]
    }
   ],
   "source": [
    " adfuller_test(df['Price'])"
   ]
  },
  {
   "cell_type": "markdown",
   "metadata": {},
   "source": [
    "# ```Ploting acf & pacf```"
   ]
  },
  {
   "cell_type": "code",
   "execution_count": 170,
   "metadata": {},
   "outputs": [
    {
     "data": {
      "image/png": "[encoded data removed]",
      "text/plain": [
       "<Figure size 432x288 with 1 Axes>"
      ]
     },
     "metadata": {
      "needs_background": "light"
     },
     "output_type": "display_data"
    },
    {
     "name": "stderr",
     "output_type": "stream",
     "text": [
      "C:\\Users\\Dell\\AppData\\Local\\Packages\\PythonSoftwareFoundation.Python.3.7_qbz5n2kfra8p0\\LocalCache\\local-packages\\Python37\\site-packages\\statsmodels\\graphics\\tsaplots.py:353: FutureWarning: The default method 'yw' can produce PACF values outside of the [-1,1] interval. After 0.13, the default will change tounadjusted Yule-Walker ('ywm'). You can use this method now by setting method='ywm'.\n",
      "  FutureWarning,\n"
     ]
    },
    {
     "data": {
      "image/png": "[encoded data removed]",
      "text/plain": [
       "<Figure size 432x288 with 1 Axes>"
      ]
     },
     "metadata": {
      "needs_background": "light"
     },
     "output_type": "display_data"
    }
   ],
   "source": [
    "from statsmodels.graphics.tsaplots import plot_acf, plot_pacf\n",
    "\n",
    "# Plot ACF\n",
    "plot_acf(df['Price'])\n",
    "plt.show()\n",
    "\n",
    "# Plot PACF\n",
    "plot_pacf(df['Price'])\n",
    "plt.show()\n"
   ]
  },
  {
   "cell_type": "markdown",
   "metadata": {},
   "source": [
    "# **Model Building**"
   ]
  },
  {
   "cell_type": "code",
   "execution_count": 171,
   "metadata": {},
   "outputs": [
    {
     "name": "stderr",
     "output_type": "stream",
     "text": [
      "C:\\Users\\Dell\\AppData\\Local\\Packages\\PythonSoftwareFoundation.Python.3.7_qbz5n2kfra8p0\\LocalCache\\local-packages\\Python37\\site-packages\\statsmodels\\tsa\\base\\tsa_model.py:471: ValueWarning: A date index has been provided, but it has no associated frequency information and so will be ignored when e.g. forecasting.\n",
      "  self._init_dates(dates, freq)\n",
      "C:\\Users\\Dell\\AppData\\Local\\Packages\\PythonSoftwareFoundation.Python.3.7_qbz5n2kfra8p0\\LocalCache\\local-packages\\Python37\\site-packages\\statsmodels\\tsa\\base\\tsa_model.py:471: ValueWarning: A date index has been provided, but it has no associated frequency information and so will be ignored when e.g. forecasting.\n",
      "  self._init_dates(dates, freq)\n",
      "C:\\Users\\Dell\\AppData\\Local\\Packages\\PythonSoftwareFoundation.Python.3.7_qbz5n2kfra8p0\\LocalCache\\local-packages\\Python37\\site-packages\\statsmodels\\tsa\\base\\tsa_model.py:471: ValueWarning: A date index has been provided, but it has no associated frequency information and so will be ignored when e.g. forecasting.\n",
      "  self._init_dates(dates, freq)\n"
     ]
    },
    {
     "name": "stdout",
     "output_type": "stream",
     "text": [
      "                               SARIMAX Results                                \n",
      "==============================================================================\n",
      "Dep. Variable:                  Price   No. Observations:                  219\n",
      "Model:                 ARIMA(1, 0, 1)   Log Likelihood                -435.336\n",
      "Date:                Mon, 25 Mar 2024   AIC                            878.673\n",
      "Time:                        18:24:59   BIC                            892.229\n",
      "Sample:                             0   HQIC                           884.148\n",
      "                                - 219                                         \n",
      "Covariance Type:                  opg                                         \n",
      "==============================================================================\n",
      "                 coef    std err          z      P>|z|      [0.025      0.975]\n",
      "------------------------------------------------------------------------------\n",
      "const        311.2741      8.599     36.197      0.000     294.420     328.128\n",
      "ar.L1          0.9879      0.012     82.548      0.000       0.964       1.011\n",
      "ma.L1         -0.0372      0.031     -1.196      0.232      -0.098       0.024\n",
      "sigma2         3.0683      0.134     22.874      0.000       2.805       3.331\n",
      "===================================================================================\n",
      "Ljung-Box (L1) (Q):                   0.00   Jarque-Bera (JB):              1472.02\n",
      "Prob(Q):                              0.98   Prob(JB):                         0.00\n",
      "Heteroskedasticity (H):               0.07   Skew:                            -1.06\n",
      "Prob(H) (two-sided):                  0.00   Kurtosis:                        15.52\n",
      "===================================================================================\n",
      "\n",
      "Warnings:\n",
      "[1] Covariance matrix calculated using the outer product of gradients (complex-step).\n",
      "Predicted Exchange Rate for Today: 303.3152656777667\n",
      "Mean Absolute Error (MAE): 1.0330100919212801\n",
      "Mean Squared Error (MSE): 3.450988041155089\n",
      "Root Mean Squared Error (RMSE): 1.8576835147987638\n"
     ]
    },
    {
     "name": "stderr",
     "output_type": "stream",
     "text": [
      "C:\\Users\\Dell\\AppData\\Local\\Packages\\PythonSoftwareFoundation.Python.3.7_qbz5n2kfra8p0\\LocalCache\\local-packages\\Python37\\site-packages\\statsmodels\\tsa\\base\\tsa_model.py:843: ValueWarning: No supported index is available. Prediction results will be given with an integer index beginning at `start`.\n",
      "  data=self.data,\n"
     ]
    }
   ],
   "source": [
    "from sklearn.model_selection import train_test_split\n",
    "\n",
    "# Split the data into training and testing sets\n",
    "\n",
    "import statsmodels.api as sm\n",
    "from statsmodels.tsa.arima.model import ARIMA\n",
    "from datetime import datetime\n",
    "\n",
    "# Import today's date from code\n",
    "todays_date = datetime.today().date()\n",
    "\n",
    "# Read the CSV file into a DataFrame\n",
    "df = pd.read_csv('USD_LKR Historical Data.csv', parse_dates=['Date'], index_col='Date')\n",
    "\n",
    "order = (1, 0, 1)\n",
    "\n",
    "# Fit ARIMA model\n",
    "model = ARIMA(df['Price'], order=order)\n",
    "results = model.fit()\n",
    "\n",
    "# Display the model summary\n",
    "print(results.summary())\n",
    "\n",
    "forecast_steps = 1\n",
    "forecast = results.get_forecast(steps=forecast_steps)\n",
    "forecast_values = forecast.predicted_mean\n",
    "\n",
    "# Print the predicted exchange rate for today\n",
    "print(\"Predicted Exchange Rate for Today:\", forecast_values.iloc[-1])\n",
    "\n",
    "# Calculate the residuals (difference between actual and predicted values)\n",
    "residuals = df['Price'] - results.fittedvalues\n",
    "\n",
    "# Calculate the Mean Absolute Error (MAE)\n",
    "mae = abs(residuals).mean()\n",
    "\n",
    "# Calculate the Mean Squared Error (MSE)\n",
    "mse = (residuals ** 2).mean()\n",
    "\n",
    "# Calculate the Root Mean Squared Error (RMSE)\n",
    "rmse = np.sqrt(mse)\n",
    "\n",
    "# Print the evaluation metrics\n",
    "print(\"Mean Absolute Error (MAE):\", mae)\n",
    "print(\"Mean Squared Error (MSE):\", mse)\n",
    "print(\"Root Mean Squared Error (RMSE):\", rmse)\n"
   ]
  },
  {
   "cell_type": "code",
   "execution_count": 172,
   "metadata": {},
   "outputs": [
    {
     "name": "stderr",
     "output_type": "stream",
     "text": [
      "C:\\Users\\Dell\\AppData\\Local\\Packages\\PythonSoftwareFoundation.Python.3.7_qbz5n2kfra8p0\\LocalCache\\local-packages\\Python37\\site-packages\\statsmodels\\tsa\\base\\tsa_model.py:471: ValueWarning: A date index has been provided, but it has no associated frequency information and so will be ignored when e.g. forecasting.\n",
      "  self._init_dates(dates, freq)\n",
      "C:\\Users\\Dell\\AppData\\Local\\Packages\\PythonSoftwareFoundation.Python.3.7_qbz5n2kfra8p0\\LocalCache\\local-packages\\Python37\\site-packages\\statsmodels\\tsa\\base\\tsa_model.py:471: ValueWarning: A date index has been provided, but it has no associated frequency information and so will be ignored when e.g. forecasting.\n",
      "  self._init_dates(dates, freq)\n",
      "C:\\Users\\Dell\\AppData\\Local\\Packages\\PythonSoftwareFoundation.Python.3.7_qbz5n2kfra8p0\\LocalCache\\local-packages\\Python37\\site-packages\\statsmodels\\tsa\\base\\tsa_model.py:471: ValueWarning: A date index has been provided, but it has no associated frequency information and so will be ignored when e.g. forecasting.\n",
      "  self._init_dates(dates, freq)\n"
     ]
    },
    {
     "name": "stdout",
     "output_type": "stream",
     "text": [
      "                               SARIMAX Results                                \n",
      "==============================================================================\n",
      "Dep. Variable:                  Price   No. Observations:                  219\n",
      "Model:                 ARIMA(1, 0, 1)   Log Likelihood                -435.336\n",
      "Date:                Mon, 25 Mar 2024   AIC                            878.673\n",
      "Time:                        18:25:00   BIC                            892.229\n",
      "Sample:                             0   HQIC                           884.148\n",
      "                                - 219                                         \n",
      "Covariance Type:                  opg                                         \n",
      "==============================================================================\n",
      "                 coef    std err          z      P>|z|      [0.025      0.975]\n",
      "------------------------------------------------------------------------------\n",
      "const        311.2741      8.599     36.197      0.000     294.420     328.128\n",
      "ar.L1          0.9879      0.012     82.548      0.000       0.964       1.011\n",
      "ma.L1         -0.0372      0.031     -1.196      0.232      -0.098       0.024\n",
      "sigma2         3.0683      0.134     22.874      0.000       2.805       3.331\n",
      "===================================================================================\n",
      "Ljung-Box (L1) (Q):                   0.00   Jarque-Bera (JB):              1472.02\n",
      "Prob(Q):                              0.98   Prob(JB):                         0.00\n",
      "Heteroskedasticity (H):               0.07   Skew:                            -1.06\n",
      "Prob(H) (two-sided):                  0.00   Kurtosis:                        15.52\n",
      "===================================================================================\n",
      "\n",
      "Warnings:\n",
      "[1] Covariance matrix calculated using the outer product of gradients (complex-step).\n",
      "Predicted Exchange Rates for the Next 7 Days:\n",
      "2024-03-26: 303.3152656777667\n",
      "2024-03-27: 303.41159898194337\n",
      "2024-03-28: 303.50676627569095\n",
      "2024-03-29: 303.60078167230427\n",
      "2024-03-30: 303.693659114252\n",
      "2024-03-31: 303.7854123752443\n",
      "2024-04-01: 303.8760550622753\n"
     ]
    },
    {
     "name": "stderr",
     "output_type": "stream",
     "text": [
      "C:\\Users\\Dell\\AppData\\Local\\Packages\\PythonSoftwareFoundation.Python.3.7_qbz5n2kfra8p0\\LocalCache\\local-packages\\Python37\\site-packages\\statsmodels\\tsa\\base\\tsa_model.py:843: ValueWarning: No supported index is available. Prediction results will be given with an integer index beginning at `start`.\n",
      "  data=self.data,\n"
     ]
    }
   ],
   "source": [
    "import pandas as pd\n",
    "import matplotlib.pyplot as plt\n",
    "import statsmodels.api as sm\n",
    "from statsmodels.tsa.arima.model import ARIMA\n",
    "from datetime import datetime\n",
    "\n",
    "# Import today's date from code\n",
    "todays_date = datetime.today().date()\n",
    "\n",
    "# Read the CSV file into a DataFrame\n",
    "df = pd.read_csv('USD_LKR Historical Data.csv', parse_dates=['Date'], index_col='Date')\n",
    "\n",
    "order = (1, 0, 1)\n",
    "\n",
    "# Fit ARIMA model\n",
    "model = ARIMA(df['Price'], order=order)\n",
    "results = model.fit()\n",
    "\n",
    "# Display the model summary\n",
    "print(results.summary())\n",
    "\n",
    "# Forecast for 7 days from today's date\n",
    "forecast_steps = 7\n",
    "forecast = results.get_forecast(steps=forecast_steps)\n",
    "forecast_values = forecast.predicted_mean\n",
    "predictions = []\n",
    "# Print the predicted exchange rates for the next 7 days\n",
    "print(\"Predicted Exchange Rates for the Next 7 Days:\")\n",
    "for i in range(forecast_steps):\n",
    "   prediction_date = todays_date + pd.Timedelta(days=i + 1)  # Adjust for starting from tomorrow\n",
    "   print(f\"{prediction_date}: {forecast_values.iloc[i]}\")\n",
    "   predictions.append(forecast_values.iloc[i])\n",
    "\n",
    "# ... (rest of your code for evaluation metrics) ...\n"
   ]
  },
  {
   "cell_type": "code",
   "execution_count": 173,
   "metadata": {},
   "outputs": [
    {
     "name": "stdout",
     "output_type": "stream",
     "text": [
      "0.1848866337985032\n",
      "New price in  7  days  :  100.1848866337985\n"
     ]
    }
   ],
   "source": [
    "\n",
    "# Create an IntSlider widget for the number of days\n",
    "days_input = int(input(\"Enter the number of days ( 1 - 7 ): \"))\n",
    "\n",
    "# Create a FloatText widget for the product price\n",
    "price_input =float(input(\"Enter the product price in LKR: \"))\n",
    "\n",
    "\n",
    "\n",
    "daily_increases = [predictions[i + 1] - predictions[i] for i in range(days_input - 1)]\n",
    "\n",
    "# Calculate daily increase rates as percentages\n",
    "daily_increase_rates = [increase / predictions[i] * 100 for i, increase in enumerate(daily_increases)]\n",
    "\n",
    "total_increase = sum(daily_increases)\n",
    "total_increase_rate = total_increase / predictions[0] * 100\n",
    "print(total_increase_rate)\n",
    "\n",
    "print(\"New price in \",days_input,\" days  : \",price_input/100*total_increase_rate + price_input)\n",
    "\n"
   ]
  },
  {
   "cell_type": "code",
   "execution_count": null,
   "metadata": {},
   "outputs": [],
   "source": []
  }
 ],
 "metadata": {
  "kernelspec": {
   "display_name": "Python 3",
   "language": "python",
   "name": "python3"
  },
  "language_info": {
   "codemirror_mode": {
    "name": "ipython",
    "version": 3
   },
   "file_extension": ".py",
   "mimetype": "text/x-python",
   "name": "python",
   "nbconvert_exporter": "python",
   "pygments_lexer": "ipython3",
   "version": "3.7.9"
  }
 },
 "nbformat": 4,
 "nbformat_minor": 2
}
